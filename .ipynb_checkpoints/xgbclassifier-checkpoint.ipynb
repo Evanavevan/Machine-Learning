{
 "cells": [
  {
   "cell_type": "markdown",
   "metadata": {},
   "source": [
    "# SGD分类器"
   ]
  },
  {
   "cell_type": "code",
   "execution_count": 1,
   "metadata": {},
   "outputs": [],
   "source": [
    "import xgboost\n",
    "from xgboost.sklearn import XGBClassifier\n",
    "from sklearn.pipeline import Pipeline\n",
    "from sklearn.metrics import log_loss, roc_auc_score, auc, roc_curve\n",
    "from sklearn.model_selection import StratifiedKFold, GridSearchCV\n",
    "from sklearn.preprocessing import StandardScaler\n",
    "import numpy as np\n",
    "import pandas as pd"
   ]
  },
  {
   "cell_type": "code",
   "execution_count": 2,
   "metadata": {},
   "outputs": [],
   "source": [
    "#读入数据集\n",
    "df_off = pd.read_csv('train_feature.csv')\n",
    "df_test = pd.read_csv('test_feature.csv')"
   ]
  },
  {
   "cell_type": "code",
   "execution_count": 3,
   "metadata": {},
   "outputs": [],
   "source": [
    "df_off.drop('Date_received', axis=1, inplace=True)\n",
    "df_test.drop_duplicates(subset=['User_id', 'Coupon_id', 'Date_received'], inplace=True)\n",
    "df_test.index = range(len(df_test))\n",
    "result = df_test[['User_id', 'Coupon_id', 'Date_received']]\n",
    "df_test.drop('Date_received', axis=1, inplace=True)"
   ]
  },
  {
   "cell_type": "code",
   "execution_count": 4,
   "metadata": {},
   "outputs": [],
   "source": [
    "df_test.drop(['User_id', 'Coupon_id', 'Merchant_id'], axis=1, inplace=True)\n",
    "#df_off.drop(['user_use_same_coupon_rate', 'user_receive_same_coupon_count', 'user_use_all_coupon_rate'], axis=1, inplace=True)\n",
    "#df_test.drop(['user_use_same_coupon_rate', 'user_receive_same_coupon_count', 'user_use_all_coupon_rate'], axis=1, inplace=True)"
   ]
  },
  {
   "cell_type": "code",
   "execution_count": 5,
   "metadata": {},
   "outputs": [],
   "source": [
    "#df_test.Coupon_id = df_test.Coupon_id.astype(float)\n",
    "df_test.user_receive_all_coupon_count = df_test.user_receive_all_coupon_count.astype(float)\n",
    "df_test.user_receive_same_coupon_count = df_test.user_receive_same_coupon_count.astype(float)\n",
    "df_test.this_month_user_receive_all_coupon_count = df_test.this_month_user_receive_all_coupon_count.astype(float)\n",
    "df_test.this_month_user_receive_same_coupon_count = df_test.this_month_user_receive_same_coupon_count.astype(float)\n",
    "df_test.total_coupon = df_test.total_coupon.astype(float)\n",
    "df_test.every_coupon_count = df_test.every_coupon_count.astype(float)"
   ]
  },
  {
   "cell_type": "code",
   "execution_count": 16,
   "metadata": {},
   "outputs": [],
   "source": [
    "#划分数据集\n",
    "test = df_off.sample(frac=0.25, axis=0)\n",
    "train = df_off.drop(np.array(test.index), axis=0)\n",
    "\n",
    "valid = test[['User_id', 'Coupon_id']]\n",
    "train.drop(['User_id', 'Coupon_id', 'Merchant_id'], axis=1, inplace=True)\n",
    "test.drop(['User_id', 'Coupon_id', 'Merchant_id'], axis=1, inplace=True)"
   ]
  },
  {
   "cell_type": "code",
   "execution_count": 17,
   "metadata": {},
   "outputs": [
    {
     "name": "stderr",
     "output_type": "stream",
     "text": [
      "C:\\Users\\wen\\Anaconda3\\envs\\tensorflow\\lib\\site-packages\\ipykernel_launcher.py:6: SettingWithCopyWarning: \n",
      "A value is trying to be set on a copy of a slice from a DataFrame.\n",
      "Try using .loc[row_indexer,col_indexer] = value instead\n",
      "\n",
      "See the caveats in the documentation: http://pandas.pydata.org/pandas-docs/stable/indexing.html#indexing-view-versus-copy\n",
      "  \n"
     ]
    }
   ],
   "source": [
    "test_x = test.drop('label', axis=1)\n",
    "test_y = test[['label']]\n",
    "train_x = train.drop('label', axis=1)\n",
    "train_y = train[['label']]\n",
    "\n",
    "valid['label'] = test_y"
   ]
  },
  {
   "cell_type": "code",
   "execution_count": 18,
   "metadata": {},
   "outputs": [
    {
     "data": {
      "text/plain": [
       "0    238291\n",
       "1     14755\n",
       "Name: label, dtype: int64"
      ]
     },
     "execution_count": 18,
     "metadata": {},
     "output_type": "execute_result"
    }
   ],
   "source": [
    "test.label.value_counts()"
   ]
  },
  {
   "cell_type": "code",
   "execution_count": 19,
   "metadata": {},
   "outputs": [],
   "source": [
    "#构建模型\n",
    "def check_model(train_x, train_y):\n",
    "    classifier = XGBClassifier(n_estimators=1260,max_depth=8, min_child_weight=4, gamma=0.2, subsample=0.6, colsample_bytree=0.8, scale_pos_weight=20, reg_alpha=0, seed=0)\n",
    "    model = Pipeline(steps=[('ss', StandardScaler()), ('en', classifier)])\n",
    "    parameters = {'en__learning_rate': [0.01]}\n",
    "    folder = StratifiedKFold(n_splits=3, shuffle=True)\n",
    "    grid_search = GridSearchCV(model, parameters, cv=folder, n_jobs=-1, verbose=1)\n",
    "    grid_search = grid_search.fit(train_x, train_y)\n",
    "    return grid_search"
   ]
  },
  {
   "cell_type": "code",
   "execution_count": 20,
   "metadata": {},
   "outputs": [
    {
     "name": "stdout",
     "output_type": "stream",
     "text": [
      "Fitting 3 folds for each of 1 candidates, totalling 3 fits\n"
     ]
    },
    {
     "name": "stderr",
     "output_type": "stream",
     "text": [
      "[Parallel(n_jobs=-1)]: Using backend LokyBackend with 4 concurrent workers.\n",
      "[Parallel(n_jobs=-1)]: Done   3 out of   3 | elapsed: 58.7min finished\n",
      "C:\\Users\\wen\\Anaconda3\\envs\\tensorflow\\lib\\site-packages\\sklearn\\preprocessing\\data.py:617: DataConversionWarning: Data with input dtype int64, float64 were all converted to float64 by StandardScaler.\n",
      "  return self.partial_fit(X, y)\n",
      "C:\\Users\\wen\\Anaconda3\\envs\\tensorflow\\lib\\site-packages\\sklearn\\base.py:465: DataConversionWarning: Data with input dtype int64, float64 were all converted to float64 by StandardScaler.\n",
      "  return self.fit(X, y, **fit_params).transform(X)\n",
      "C:\\Users\\wen\\Anaconda3\\envs\\tensorflow\\lib\\site-packages\\sklearn\\preprocessing\\label.py:219: DataConversionWarning: A column-vector y was passed when a 1d array was expected. Please change the shape of y to (n_samples, ), for example using ravel().\n",
      "  y = column_or_1d(y, warn=True)\n",
      "C:\\Users\\wen\\Anaconda3\\envs\\tensorflow\\lib\\site-packages\\sklearn\\preprocessing\\label.py:252: DataConversionWarning: A column-vector y was passed when a 1d array was expected. Please change the shape of y to (n_samples, ), for example using ravel().\n",
      "  y = column_or_1d(y, warn=True)\n"
     ]
    }
   ],
   "source": [
    "model = check_model(train_x, train_y)"
   ]
  },
  {
   "cell_type": "code",
   "execution_count": 21,
   "metadata": {},
   "outputs": [
    {
     "name": "stderr",
     "output_type": "stream",
     "text": [
      "C:\\Users\\wen\\Anaconda3\\envs\\tensorflow\\lib\\site-packages\\sklearn\\pipeline.py:381: DataConversionWarning: Data with input dtype int64, float64 were all converted to float64 by StandardScaler.\n",
      "  Xt = transform.transform(Xt)\n",
      "C:\\Users\\wen\\Anaconda3\\envs\\tensorflow\\lib\\site-packages\\ipykernel_launcher.py:3: SettingWithCopyWarning: \n",
      "A value is trying to be set on a copy of a slice from a DataFrame.\n",
      "Try using .loc[row_indexer,col_indexer] = value instead\n",
      "\n",
      "See the caveats in the documentation: http://pandas.pydata.org/pandas-docs/stable/indexing.html#indexing-view-versus-copy\n",
      "  This is separate from the ipykernel package so we can avoid doing imports until\n"
     ]
    }
   ],
   "source": [
    "#验证\n",
    "pred = model.predict_proba(test_x)\n",
    "valid['pre_prob'] = pred[:, 1]"
   ]
  },
  {
   "cell_type": "code",
   "execution_count": 22,
   "metadata": {},
   "outputs": [
    {
     "name": "stdout",
     "output_type": "stream",
     "text": [
      "0.9611273578471554\n"
     ]
    }
   ],
   "source": [
    "#测试验证集的AUC\n",
    "vg = valid.groupby('Coupon_id')\n",
    "aucs = []\n",
    "for i in vg:\n",
    "    tmpdf = i[1]\n",
    "    if len(tmpdf['label'].unique())!=2:\n",
    "        continue\n",
    "    fpr, tpr, thresholds = roc_curve(tmpdf['label'], tmpdf['pre_prob'], pos_label=1)\n",
    "    aucs.append(auc(fpr, tpr))\n",
    "print(np.average(aucs))"
   ]
  },
  {
   "cell_type": "code",
   "execution_count": 23,
   "metadata": {},
   "outputs": [
    {
     "name": "stderr",
     "output_type": "stream",
     "text": [
      "C:\\Users\\wen\\Anaconda3\\envs\\tensorflow\\lib\\site-packages\\sklearn\\pipeline.py:381: DataConversionWarning: Data with input dtype int64, float64 were all converted to float64 by StandardScaler.\n",
      "  Xt = transform.transform(Xt)\n",
      "C:\\Users\\wen\\Anaconda3\\envs\\tensorflow\\lib\\site-packages\\ipykernel_launcher.py:3: SettingWithCopyWarning: \n",
      "A value is trying to be set on a copy of a slice from a DataFrame.\n",
      "Try using .loc[row_indexer,col_indexer] = value instead\n",
      "\n",
      "See the caveats in the documentation: http://pandas.pydata.org/pandas-docs/stable/indexing.html#indexing-view-versus-copy\n",
      "  This is separate from the ipykernel package so we can avoid doing imports until\n",
      "C:\\Users\\wen\\Anaconda3\\envs\\tensorflow\\lib\\site-packages\\ipykernel_launcher.py:4: SettingWithCopyWarning: \n",
      "A value is trying to be set on a copy of a slice from a DataFrame\n",
      "\n",
      "See the caveats in the documentation: http://pandas.pydata.org/pandas-docs/stable/indexing.html#indexing-view-versus-copy\n",
      "  after removing the cwd from sys.path.\n"
     ]
    }
   ],
   "source": [
    "#预测\n",
    "pred = model.predict_proba(df_test)\n",
    "result['Probability'] = pred[:, 1]\n",
    "result.sort_values(by=['Coupon_id','Probability'],inplace=True)\n",
    "result.to_csv(\"test_predction.csv\",index=None,header=None)"
   ]
  },
  {
   "cell_type": "code",
   "execution_count": null,
   "metadata": {},
   "outputs": [],
   "source": []
  }
 ],
 "metadata": {
  "kernelspec": {
   "display_name": "Python 3",
   "language": "python",
   "name": "python3"
  },
  "language_info": {
   "codemirror_mode": {
    "name": "ipython",
    "version": 3
   },
   "file_extension": ".py",
   "mimetype": "text/x-python",
   "name": "python",
   "nbconvert_exporter": "python",
   "pygments_lexer": "ipython3",
   "version": "3.6.6"
  }
 },
 "nbformat": 4,
 "nbformat_minor": 2
}
