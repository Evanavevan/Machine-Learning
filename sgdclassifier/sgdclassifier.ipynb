{
 "cells": [
  {
   "cell_type": "markdown",
   "metadata": {},
   "source": [
    "# SGD分类器"
   ]
  },
  {
   "cell_type": "code",
   "execution_count": null,
   "metadata": {},
   "outputs": [],
   "source": [
    "from sklearn.pipeline import Pipeline\n",
    "from sklearn.linear_model import SGDClassifier\n",
    "from sklearn.metrics import log_loss, roc_auc_score, auc, roc_curve\n",
    "from sklearn.model_selection import StratifiedKFold, GridSearchCV\n",
    "from sklearn.preprocessing import StandardScaler\n",
    "import numpy as np"
   ]
  },
  {
   "cell_type": "code",
   "execution_count": null,
   "metadata": {},
   "outputs": [],
   "source": [
    "#读入数据集\n",
    "df_off = pd.read_csv('train_feature.csv')\n",
    "df_test = pd.read_csv('test_feature.csv')"
   ]
  },
  {
   "cell_type": "code",
   "execution_count": null,
   "metadata": {},
   "outputs": [],
   "source": [
    "df_off.drop('Date_received', axis=1, inplace=True)\n",
    "df_test.drop_duplicates(subset=['User_id', 'Coupon_id', 'Date_received'], inplace=True)\n",
    "df_test.index = range(len(df_test))\n",
    "result = df_test[['User_id', 'Coupon_id', 'Date_received']]\n",
    "df_test.drop('Date_received', axis=1, inplace=True)"
   ]
  },
  {
   "cell_type": "code",
   "execution_count": null,
   "metadata": {},
   "outputs": [],
   "source": [
    "df_test.drop(['User_id', 'Coupon_id', 'Merchant_id'], axis=1, inplace=True)\n",
    "#df_off.drop(['user_use_same_coupon_rate', 'user_receive_same_coupon_count', 'user_use_all_coupon_rate'], axis=1, inplace=True)\n",
    "#df_test.drop(['user_use_same_coupon_rate', 'user_receive_same_coupon_count', 'user_use_all_coupon_rate'], axis=1, inplace=True)"
   ]
  },
  {
   "cell_type": "code",
   "execution_count": null,
   "metadata": {},
   "outputs": [],
   "source": [
    "#df_test.Coupon_id = df_test.Coupon_id.astype(float)\n",
    "df_test.user_receive_all_coupon_count = df_test.user_receive_all_coupon_count.astype(float)\n",
    "df_test.user_receive_same_coupon_count = df_test.user_receive_same_coupon_count.astype(float)\n",
    "df_test.this_month_user_receive_all_coupon_count = df_test.this_month_user_receive_all_coupon_count.astype(float)\n",
    "df_test.this_month_user_receive_same_coupon_count = df_test.this_month_user_receive_same_coupon_count.astype(float)\n",
    "df_test.total_coupon = df_test.total_coupon.astype(float)\n",
    "df_test.every_coupon_count = df_test.every_coupon_count.astype(float)"
   ]
  },
  {
   "cell_type": "code",
   "execution_count": null,
   "metadata": {},
   "outputs": [],
   "source": [
    "#划分数据集\n",
    "test = df_off.sample(frac=0.25, axis=0)\n",
    "train = df_off.drop(np.array(test.index), axis=0)\n",
    "\n",
    "valid = test[['User_id', 'Coupon_id']]\n",
    "train.drop(['User_id', 'Coupon_id', 'Merchant_id'], axis=1, inplace=True)\n",
    "test.drop(['User_id', 'Coupon_id', 'Merchant_id'], axis=1, inplace=True)"
   ]
  },
  {
   "cell_type": "code",
   "execution_count": null,
   "metadata": {},
   "outputs": [],
   "source": [
    "test_x = test.drop('label', axis=1)\n",
    "test_y = test[['label']]\n",
    "train_x = train.drop('label', axis=1)\n",
    "train_y = train[['label']]\n",
    "\n",
    "valid['label'] = test_y"
   ]
  },
  {
   "cell_type": "code",
   "execution_count": null,
   "metadata": {},
   "outputs": [],
   "source": [
    "#构建模型\n",
    "def check_model(train_x, train_y):\n",
    "    classifier = SGDClassifier(loss='log', penalty='elasticnet', max_iter=100, n_jobs=1)\n",
    "    model = Pipeline(steps=[('ss', StandardScaler()), ('en', classifier)])\n",
    "    parameters = {'en__alpha':[0.001, 0.01, 0.1], 'en__l1_ratio':[0.001, 0.01, 0.1]}\n",
    "    folder = StratifiedKFold(n_splits=3, shuffle=True)\n",
    "    grid_search = GridSearchCV(model, parameters, cv=folder, n_jobs=-1, verbose=1)\n",
    "    grid_search = grid_search.fit(train_x, train_y)\n",
    "    return grid_search"
   ]
  },
  {
   "cell_type": "code",
   "execution_count": null,
   "metadata": {},
   "outputs": [],
   "source": [
    "model = check_model(train_x, train_y)"
   ]
  },
  {
   "cell_type": "code",
   "execution_count": null,
   "metadata": {},
   "outputs": [],
   "source": [
    "#验证\n",
    "pred = model.predict_proba(test_x)\n",
    "valid['pre_prob'] = pred[:, 1]"
   ]
  },
  {
   "cell_type": "code",
   "execution_count": null,
   "metadata": {},
   "outputs": [],
   "source": [
    "#测试验证集的AUC\n",
    "vg = valid.groupby('Coupon_id')\n",
    "aucs = []\n",
    "for i in vg:\n",
    "    tmpdf = i[1]\n",
    "    if len(tmpdf['label'].unique())!=2:\n",
    "        continue\n",
    "    fpr, tpr, thresholds = roc_curve(tmpdf['label'], tmpdf['pre_prob'], pos_label=1)\n",
    "    aucs.append(auc(fpr, tpr))\n",
    "print(np.average(aucs))"
   ]
  },
  {
   "cell_type": "code",
   "execution_count": null,
   "metadata": {},
   "outputs": [],
   "source": [
    "#预测\n",
    "pred = model.predict_proba(df_test)\n",
    "result['Probability'] = pred[:, 1]\n",
    "result.sort_values(by=['Coupon_id','Probability'],inplace=True)\n",
    "result.to_csv(\"test_predction.csv\",index=None,header=None)"
   ]
  },
  {
   "cell_type": "code",
   "execution_count": null,
   "metadata": {},
   "outputs": [],
   "source": []
  }
 ],
 "metadata": {
  "kernelspec": {
   "display_name": "Python 3",
   "language": "python",
   "name": "python3"
  },
  "language_info": {
   "codemirror_mode": {
    "name": "ipython",
    "version": 3
   },
   "file_extension": ".py",
   "mimetype": "text/x-python",
   "name": "python",
   "nbconvert_exporter": "python",
   "pygments_lexer": "ipython3",
   "version": "3.6.6"
  }
 },
 "nbformat": 4,
 "nbformat_minor": 2
}
